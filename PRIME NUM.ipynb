{
 "cells": [
  {
   "cell_type": "code",
   "execution_count": null,
   "id": "5d2e09e0",
   "metadata": {},
   "outputs": [],
   "source": [
    "# PRIME NUMBER ----BRUTE FORCE----O(n)=n"
   ]
  },
  {
   "cell_type": "code",
   "execution_count": 1,
   "id": "9166c569",
   "metadata": {},
   "outputs": [],
   "source": [
    "\n",
    "def is_divisor(a,n):\n",
    "    return a%n==0"
   ]
  },
  {
   "cell_type": "code",
   "execution_count": 2,
   "id": "e259a68d",
   "metadata": {},
   "outputs": [],
   "source": [
    "def find_smallest_divisor(a,n):\n",
    "    if is_divisor(a,n):\n",
    "        return n\n",
    "    else:\n",
    "        return find_smallest_divisor(a,n+1)"
   ]
  },
  {
   "cell_type": "code",
   "execution_count": 5,
   "id": "8143f1ba",
   "metadata": {},
   "outputs": [],
   "source": [
    "def is_prime(n):\n",
    "    if find_smallest_divisor(n,2)==n:\n",
    "        return True\n",
    "    return False"
   ]
  },
  {
   "cell_type": "code",
   "execution_count": 10,
   "id": "f590c758",
   "metadata": {},
   "outputs": [
    {
     "name": "stdout",
     "output_type": "stream",
     "text": [
      "True\n",
      "False\n"
     ]
    }
   ],
   "source": [
    "print(is_prime(17))\n",
    "print(is_prime(12))"
   ]
  },
  {
   "cell_type": "code",
   "execution_count": null,
   "id": "d27536b8",
   "metadata": {},
   "outputs": [],
   "source": [
    "# PRIME NUMBER ----Square-root----O(n)=sqrt(n)"
   ]
  },
  {
   "cell_type": "code",
   "execution_count": 14,
   "id": "82bfebbd",
   "metadata": {},
   "outputs": [],
   "source": [
    "def find_smallest_divisor_vol2(a,n):\n",
    "    if n**2>a:\n",
    "        return a\n",
    "    if is_divisor(a,n):\n",
    "        return n\n",
    "    return find_smallest_divisor_vol2(a,n+1)"
   ]
  },
  {
   "cell_type": "code",
   "execution_count": 15,
   "id": "879d3f7e",
   "metadata": {},
   "outputs": [],
   "source": [
    "def is_prime_sqrt(a):\n",
    "    if find_smallest_divisor_vol2(a,2)==a:\n",
    "        return True\n",
    "    return False"
   ]
  },
  {
   "cell_type": "code",
   "execution_count": 20,
   "id": "60fc0355",
   "metadata": {},
   "outputs": [
    {
     "data": {
      "text/plain": [
       "True"
      ]
     },
     "execution_count": 20,
     "metadata": {},
     "output_type": "execute_result"
    }
   ],
   "source": [
    "is_prime_sqrt(61)"
   ]
  },
  {
   "cell_type": "code",
   "execution_count": null,
   "id": "5f349dc4",
   "metadata": {},
   "outputs": [],
   "source": [
    "# PRIME NUMBER ----Ferman Test----O(n)=log(n)"
   ]
  },
  {
   "cell_type": "code",
   "execution_count": 26,
   "id": "239aa6f0",
   "metadata": {},
   "outputs": [],
   "source": [
    "from random import randint"
   ]
  },
  {
   "cell_type": "code",
   "execution_count": 37,
   "id": "fdb2732f",
   "metadata": {},
   "outputs": [],
   "source": [
    "# EX1.13\n",
    "def is_even(a):\n",
    "    if a%2==0:\n",
    "        return True\n",
    "    else:\n",
    "        return False\n",
    "def square(n):\n",
    "    return n**2\n",
    "\n",
    "def half(n):\n",
    "    return n/2\n",
    "\n",
    "def pow_final(b,n):\n",
    "    res=1\n",
    "    while n>0:\n",
    "        if is_even(n):\n",
    "            b=square(b)\n",
    "            n=n/2\n",
    "        else:\n",
    "            res*=b\n",
    "            n-=1\n",
    "    return res"
   ]
  },
  {
   "cell_type": "code",
   "execution_count": 38,
   "id": "c7cf8309",
   "metadata": {},
   "outputs": [],
   "source": [
    "def pow_mod(base,exp,mod):\n",
    "    return pow_final(base,exp)%mod"
   ]
  },
  {
   "cell_type": "code",
   "execution_count": 39,
   "id": "0abea4fe",
   "metadata": {},
   "outputs": [],
   "source": [
    "def ferman_test(n):\n",
    "    random_num=randint(2,n-1)\n",
    "    return random_num==pow_mod(random_num,n,n)"
   ]
  },
  {
   "cell_type": "code",
   "execution_count": 40,
   "id": "5c7f3eca",
   "metadata": {},
   "outputs": [
    {
     "data": {
      "text/plain": [
       "True"
      ]
     },
     "execution_count": 40,
     "metadata": {},
     "output_type": "execute_result"
    }
   ],
   "source": [
    "ferman_test(5)"
   ]
  },
  {
   "cell_type": "code",
   "execution_count": null,
   "id": "d9066452",
   "metadata": {},
   "outputs": [],
   "source": []
  },
  {
   "cell_type": "code",
   "execution_count": null,
   "id": "9d02941b",
   "metadata": {},
   "outputs": [],
   "source": []
  }
 ],
 "metadata": {
  "kernelspec": {
   "display_name": "Python 3 (ipykernel)",
   "language": "python",
   "name": "python3"
  },
  "language_info": {
   "codemirror_mode": {
    "name": "ipython",
    "version": 3
   },
   "file_extension": ".py",
   "mimetype": "text/x-python",
   "name": "python",
   "nbconvert_exporter": "python",
   "pygments_lexer": "ipython3",
   "version": "3.9.7"
  }
 },
 "nbformat": 4,
 "nbformat_minor": 5
}
