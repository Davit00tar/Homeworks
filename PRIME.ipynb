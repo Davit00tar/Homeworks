{
 "cells": [
  {
   "cell_type": "code",
   "execution_count": null,
   "id": "755f27ab",
   "metadata": {},
   "outputs": [],
   "source": [
    "# PRIME NUMBER ----BRUTE FORCE----O(n)=n"
   ]
  },
  {
   "cell_type": "code",
   "execution_count": 1,
   "id": "6c8e1494",
   "metadata": {},
   "outputs": [],
   "source": [
    "\n",
    "def is_divisor(a,n):\n",
    "    return a%n==0"
   ]
  },
  {
   "cell_type": "code",
   "execution_count": 2,
   "id": "f66854c4",
   "metadata": {},
   "outputs": [],
   "source": [
    "def find_smallest_divisor(a,n):\n",
    "    if is_divisor(a,n):\n",
    "        return n\n",
    "    else:\n",
    "        return find_smallest_divisor(a,n+1)"
   ]
  },
  {
   "cell_type": "code",
   "execution_count": 5,
   "id": "f234e743",
   "metadata": {},
   "outputs": [],
   "source": [
    "def is_prime(n):\n",
    "    if find_smallest_divisor(n,2)==n:\n",
    "        return True\n",
    "    return False"
   ]
  },
  {
   "cell_type": "code",
   "execution_count": 10,
   "id": "9e3127b8",
   "metadata": {},
   "outputs": [
    {
     "name": "stdout",
     "output_type": "stream",
     "text": [
      "True\n",
      "False\n"
     ]
    }
   ],
   "source": [
    "print(is_prime(17))\n",
    "print(is_prime(12))"
   ]
  },
  {
   "cell_type": "code",
   "execution_count": null,
   "id": "15fcab00",
   "metadata": {},
   "outputs": [],
   "source": [
    "# PRIME NUMBER ----Square-root----O(n)=sqrt(n)"
   ]
  },
  {
   "cell_type": "code",
   "execution_count": 14,
   "id": "c84c1778",
   "metadata": {},
   "outputs": [],
   "source": [
    "def find_smallest_divisor_vol2(a,n):\n",
    "    if n**2>a:\n",
    "        return a\n",
    "    if is_divisor(a,n):\n",
    "        return n\n",
    "    return find_smallest_divisor_vol2(a,n+1)"
   ]
  },
  {
   "cell_type": "code",
   "execution_count": 15,
   "id": "18dead07",
   "metadata": {},
   "outputs": [],
   "source": [
    "def is_prime_sqrt(a):\n",
    "    if find_smallest_divisor_vol2(a,2)==a:\n",
    "        return True\n",
    "    return False"
   ]
  },
  {
   "cell_type": "code",
   "execution_count": 20,
   "id": "10707f05",
   "metadata": {},
   "outputs": [
    {
     "data": {
      "text/plain": [
       "True"
      ]
     },
     "execution_count": 20,
     "metadata": {},
     "output_type": "execute_result"
    }
   ],
   "source": [
    "is_prime_sqrt(61)"
   ]
  },
  {
   "cell_type": "code",
   "execution_count": null,
   "id": "fc130182",
   "metadata": {},
   "outputs": [],
   "source": [
    "# PRIME NUMBER ----Ferman Test----O(n)=log(n)"
   ]
  },
  {
   "cell_type": "code",
   "execution_count": 26,
   "id": "b77a4535",
   "metadata": {},
   "outputs": [],
   "source": [
    "from random import randint"
   ]
  },
  {
   "cell_type": "code",
   "execution_count": 29,
   "id": "e2f14da9",
   "metadata": {},
   "outputs": [],
   "source": [
    "def pow_final(b,n):\n",
    "    res=1\n",
    "    while n>0:\n",
    "        if is_even(n):\n",
    "            b=square(b)\n",
    "            n=n/2\n",
    "        else:\n",
    "            res*=b\n",
    "            n-=1\n",
    "    return res"
   ]
  },
  {
   "cell_type": "code",
   "execution_count": 30,
   "id": "0638e2c3",
   "metadata": {},
   "outputs": [],
   "source": [
    "def pow_mod(base,exp,mod):\n",
    "    return pow_final(base,exp)%mod"
   ]
  },
  {
   "cell_type": "code",
   "execution_count": 31,
   "id": "8e43913b",
   "metadata": {},
   "outputs": [],
   "source": [
    "def ferman_test(n):\n",
    "    random_num=randint(2,n-1)\n",
    "    return random_num==pow_mod(random_num,n,n)"
   ]
  },
  {
   "cell_type": "code",
   "execution_count": 32,
   "id": "e0aaaa9d",
   "metadata": {},
   "outputs": [
    {
     "ename": "NameError",
     "evalue": "name 'is_even' is not defined",
     "output_type": "error",
     "traceback": [
      "\u001b[1;31m---------------------------------------------------------------------------\u001b[0m",
      "\u001b[1;31mNameError\u001b[0m                                 Traceback (most recent call last)",
      "\u001b[1;32m~\\AppData\\Local\\Temp/ipykernel_9668/700623207.py\u001b[0m in \u001b[0;36m<module>\u001b[1;34m\u001b[0m\n\u001b[1;32m----> 1\u001b[1;33m \u001b[0mferman_test\u001b[0m\u001b[1;33m(\u001b[0m\u001b[1;36m5\u001b[0m\u001b[1;33m)\u001b[0m\u001b[1;33m\u001b[0m\u001b[1;33m\u001b[0m\u001b[0m\n\u001b[0m",
      "\u001b[1;32m~\\AppData\\Local\\Temp/ipykernel_9668/3330703524.py\u001b[0m in \u001b[0;36mferman_test\u001b[1;34m(n)\u001b[0m\n\u001b[0;32m      1\u001b[0m \u001b[1;32mdef\u001b[0m \u001b[0mferman_test\u001b[0m\u001b[1;33m(\u001b[0m\u001b[0mn\u001b[0m\u001b[1;33m)\u001b[0m\u001b[1;33m:\u001b[0m\u001b[1;33m\u001b[0m\u001b[1;33m\u001b[0m\u001b[0m\n\u001b[0;32m      2\u001b[0m     \u001b[0mrandom_num\u001b[0m\u001b[1;33m=\u001b[0m\u001b[0mrandint\u001b[0m\u001b[1;33m(\u001b[0m\u001b[1;36m2\u001b[0m\u001b[1;33m,\u001b[0m\u001b[0mn\u001b[0m\u001b[1;33m-\u001b[0m\u001b[1;36m1\u001b[0m\u001b[1;33m)\u001b[0m\u001b[1;33m\u001b[0m\u001b[1;33m\u001b[0m\u001b[0m\n\u001b[1;32m----> 3\u001b[1;33m     \u001b[1;32mreturn\u001b[0m \u001b[0mrandom_num\u001b[0m\u001b[1;33m==\u001b[0m\u001b[0mpow_mod\u001b[0m\u001b[1;33m(\u001b[0m\u001b[0mrandom_num\u001b[0m\u001b[1;33m,\u001b[0m\u001b[0mn\u001b[0m\u001b[1;33m,\u001b[0m\u001b[0mn\u001b[0m\u001b[1;33m)\u001b[0m\u001b[1;33m\u001b[0m\u001b[1;33m\u001b[0m\u001b[0m\n\u001b[0m",
      "\u001b[1;32m~\\AppData\\Local\\Temp/ipykernel_9668/2612746362.py\u001b[0m in \u001b[0;36mpow_mod\u001b[1;34m(base, exp, mod)\u001b[0m\n\u001b[0;32m      1\u001b[0m \u001b[1;32mdef\u001b[0m \u001b[0mpow_mod\u001b[0m\u001b[1;33m(\u001b[0m\u001b[0mbase\u001b[0m\u001b[1;33m,\u001b[0m\u001b[0mexp\u001b[0m\u001b[1;33m,\u001b[0m\u001b[0mmod\u001b[0m\u001b[1;33m)\u001b[0m\u001b[1;33m:\u001b[0m\u001b[1;33m\u001b[0m\u001b[1;33m\u001b[0m\u001b[0m\n\u001b[1;32m----> 2\u001b[1;33m     \u001b[1;32mreturn\u001b[0m \u001b[0mpow_final\u001b[0m\u001b[1;33m(\u001b[0m\u001b[0mbase\u001b[0m\u001b[1;33m,\u001b[0m\u001b[0mexp\u001b[0m\u001b[1;33m)\u001b[0m\u001b[1;33m%\u001b[0m\u001b[0mmod\u001b[0m\u001b[1;33m\u001b[0m\u001b[1;33m\u001b[0m\u001b[0m\n\u001b[0m",
      "\u001b[1;32m~\\AppData\\Local\\Temp/ipykernel_9668/602113709.py\u001b[0m in \u001b[0;36mpow_final\u001b[1;34m(b, n)\u001b[0m\n\u001b[0;32m      2\u001b[0m     \u001b[0mres\u001b[0m\u001b[1;33m=\u001b[0m\u001b[1;36m1\u001b[0m\u001b[1;33m\u001b[0m\u001b[1;33m\u001b[0m\u001b[0m\n\u001b[0;32m      3\u001b[0m     \u001b[1;32mwhile\u001b[0m \u001b[0mn\u001b[0m\u001b[1;33m>\u001b[0m\u001b[1;36m0\u001b[0m\u001b[1;33m:\u001b[0m\u001b[1;33m\u001b[0m\u001b[1;33m\u001b[0m\u001b[0m\n\u001b[1;32m----> 4\u001b[1;33m         \u001b[1;32mif\u001b[0m \u001b[0mis_even\u001b[0m\u001b[1;33m(\u001b[0m\u001b[0mn\u001b[0m\u001b[1;33m)\u001b[0m\u001b[1;33m:\u001b[0m\u001b[1;33m\u001b[0m\u001b[1;33m\u001b[0m\u001b[0m\n\u001b[0m\u001b[0;32m      5\u001b[0m             \u001b[0mb\u001b[0m\u001b[1;33m=\u001b[0m\u001b[0msquare\u001b[0m\u001b[1;33m(\u001b[0m\u001b[0mb\u001b[0m\u001b[1;33m)\u001b[0m\u001b[1;33m\u001b[0m\u001b[1;33m\u001b[0m\u001b[0m\n\u001b[0;32m      6\u001b[0m             \u001b[0mn\u001b[0m\u001b[1;33m=\u001b[0m\u001b[0mn\u001b[0m\u001b[1;33m/\u001b[0m\u001b[1;36m2\u001b[0m\u001b[1;33m\u001b[0m\u001b[1;33m\u001b[0m\u001b[0m\n",
      "\u001b[1;31mNameError\u001b[0m: name 'is_even' is not defined"
     ]
    }
   ],
   "source": [
    "ferman_test(5)"
   ]
  },
  {
   "cell_type": "code",
   "execution_count": null,
   "id": "4049e153",
   "metadata": {},
   "outputs": [],
   "source": []
  }
 ],
 "metadata": {
  "kernelspec": {
   "display_name": "Python 3 (ipykernel)",
   "language": "python",
   "name": "python3"
  },
  "language_info": {
   "codemirror_mode": {
    "name": "ipython",
    "version": 3
   },
   "file_extension": ".py",
   "mimetype": "text/x-python",
   "name": "python",
   "nbconvert_exporter": "python",
   "pygments_lexer": "ipython3",
   "version": "3.9.7"
  }
 },
 "nbformat": 4,
 "nbformat_minor": 5
}
