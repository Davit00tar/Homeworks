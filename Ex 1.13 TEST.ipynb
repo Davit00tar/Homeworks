{
 "cells": [
  {
   "cell_type": "code",
   "execution_count": null,
   "id": "40a2ad41",
   "metadata": {},
   "outputs": [],
   "source": [
    "#EX 1.13---------------------------------------------------"
   ]
  },
  {
   "cell_type": "code",
   "execution_count": 1,
   "id": "73aa5f5e",
   "metadata": {},
   "outputs": [],
   "source": [
    "def is_even(a):\n",
    "    if a%2==0:\n",
    "        return True\n",
    "    else:\n",
    "        return False\n",
    "#Ստուգում է թիվը զույգ է թե կենտ"
   ]
  },
  {
   "cell_type": "code",
   "execution_count": null,
   "id": "dd1dfc77",
   "metadata": {},
   "outputs": [],
   "source": []
  },
  {
   "cell_type": "code",
   "execution_count": 27,
   "id": "db099e49",
   "metadata": {},
   "outputs": [],
   "source": [
    "def square(n):\n",
    "    return n**2"
   ]
  },
  {
   "cell_type": "code",
   "execution_count": null,
   "id": "7575de6b",
   "metadata": {},
   "outputs": [],
   "source": [
    "def half(n):\n",
    "    return n/2"
   ]
  },
  {
   "cell_type": "code",
   "execution_count": 40,
   "id": "1e872ff7",
   "metadata": {},
   "outputs": [],
   "source": [
    "def my_pow(b,n):\n",
    "    res=1\n",
    "    count=1 # count-ի սկզբնական արժեքը 1 է, քանի որ 0-ի դեպքում count*=2-ի արդյունքում նրա արժեքը չէր փոխվի\n",
    "    while count <= n: \n",
    "        if is_even(n):\n",
    "            res*=b**2\n",
    "            count*=2\n",
    "        else:\n",
    "            res*=b\n",
    "            count+=1\n",
    "    return res\n",
    "            "
   ]
  },
  {
   "cell_type": "code",
   "execution_count": 43,
   "id": "7ce77423",
   "metadata": {},
   "outputs": [
    {
     "name": "stdout",
     "output_type": "stream",
     "text": [
      "b=2, n= 4\n",
      "False\n",
      "b=2, n= 5\n",
      "True\n",
      "b=2, n= 6\n",
      "True\n",
      "b=2, n= 7\n",
      "True\n",
      "b=2, n= 8\n",
      "True\n",
      "b=2, n= 9\n",
      "True\n",
      "b=2, n= 10\n",
      "False\n",
      "b=2, n= 11\n",
      "True\n",
      "b=2, n= 12\n",
      "False\n",
      "b=2, n= 13\n",
      "True\n",
      "b=2, n= 14\n",
      "False\n"
     ]
    }
   ],
   "source": [
    "# TEST\n",
    "a=4\n",
    "while a<15:\n",
    "    print(\"b=2, n=\",a)\n",
    "    print(my_pow(2,a)==2**a)\n",
    "    a+=1"
   ]
  },
  {
   "cell_type": "code",
   "execution_count": 31,
   "id": "e47bf113",
   "metadata": {},
   "outputs": [],
   "source": [
    "def my_pow2(b,n):\n",
    "    res=1\n",
    "    while n > 0 :\n",
    "        if is_even(n):\n",
    "            res*=square(b)\n",
    "            n/=2\n",
    "        else:\n",
    "            res*=b\n",
    "            n-=1\n",
    "    return res"
   ]
  },
  {
   "cell_type": "code",
   "execution_count": 36,
   "id": "76ceb067",
   "metadata": {},
   "outputs": [
    {
     "name": "stdout",
     "output_type": "stream",
     "text": [
      "b=2, n= 4\n",
      "False\n",
      "b=2, n= 5\n",
      "False\n",
      "b=2, n= 6\n",
      "True\n",
      "b=2, n= 7\n",
      "True\n",
      "b=2, n= 8\n",
      "False\n",
      "b=2, n= 9\n",
      "False\n"
     ]
    }
   ],
   "source": [
    "# TEST\n",
    "a=4\n",
    "while a<10:\n",
    "    print(\"b=2, n=\",a)\n",
    "    print(my_pow2(2,a)==2**a)\n",
    "    a+=1"
   ]
  },
  {
   "cell_type": "code",
   "execution_count": null,
   "id": "86e25d31",
   "metadata": {},
   "outputs": [],
   "source": []
  }
 ],
 "metadata": {
  "kernelspec": {
   "display_name": "Python 3 (ipykernel)",
   "language": "python",
   "name": "python3"
  },
  "language_info": {
   "codemirror_mode": {
    "name": "ipython",
    "version": 3
   },
   "file_extension": ".py",
   "mimetype": "text/x-python",
   "name": "python",
   "nbconvert_exporter": "python",
   "pygments_lexer": "ipython3",
   "version": "3.9.7"
  }
 },
 "nbformat": 4,
 "nbformat_minor": 5
}
