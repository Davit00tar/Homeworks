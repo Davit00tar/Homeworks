{
 "cells": [
  {
   "cell_type": "code",
   "execution_count": null,
   "id": "40a2ad41",
   "metadata": {},
   "outputs": [],
   "source": [
    "#EX 1.13---------------------------------------------------"
   ]
  },
  {
   "cell_type": "code",
   "execution_count": 1,
   "id": "73aa5f5e",
   "metadata": {},
   "outputs": [],
   "source": [
    "def is_even(a):\n",
    "    if a%2==0:\n",
    "        return True\n",
    "    else:\n",
    "        return False\n",
    "#Ստուգում է թիվը զույգ է թե կենտ"
   ]
  },
  {
   "cell_type": "code",
   "execution_count": 27,
   "id": "db099e49",
   "metadata": {},
   "outputs": [],
   "source": [
    "def square(n):\n",
    "    return n**2"
   ]
  },
  {
   "cell_type": "code",
   "execution_count": null,
   "id": "7575de6b",
   "metadata": {},
   "outputs": [],
   "source": [
    "def half(n):\n",
    "    return n/2"
   ]
  },
  {
   "cell_type": "code",
   "execution_count": null,
   "id": "076ede18",
   "metadata": {},
   "outputs": [],
   "source": [
    "def pow_final(b,n):\n",
    "    res=1\n",
    "    while n>0:\n",
    "        if is_even(n):\n",
    "            b=square(b)\n",
    "            n=n/2\n",
    "        else:\n",
    "            res*=b\n",
    "            n-=1\n",
    "    return res\n",
    "# Եթե աստիճանային ցուցիչը զոըյգ է ապա կաելի էայն բաժանել 2-ի և հիմքը բարձրացնել քառակուսով, այսպես այնքան ժամանակ մինչև\n",
    "# ցուցիչը դառնա կենտ, որից հետո արդյունքին բազմապատկելով հիմքը ցուցիչից հանենք 1 և այսպես շարումանկ մինչև n=0:"
   ]
  },
  {
   "cell_type": "code",
   "execution_count": 75,
   "id": "7ce77423",
   "metadata": {},
   "outputs": [
    {
     "name": "stdout",
     "output_type": "stream",
     "text": [
      "True\n",
      "True\n",
      "True\n",
      "True\n",
      "True\n",
      "True\n",
      "True\n",
      "True\n",
      "True\n",
      "True\n",
      "True\n"
     ]
    }
   ],
   "source": [
    "# TEST\n",
    "a=4\n",
    "while a<15:\n",
    "    print(pow_final(2,a)==2**a)\n",
    "    a+=1"
   ]
  },
  {
   "cell_type": "code",
   "execution_count": 76,
   "id": "0e780c82",
   "metadata": {},
   "outputs": [],
   "source": [
    "# EX 1.14---------------------------------------"
   ]
  },
  {
   "cell_type": "code",
   "execution_count": 59,
   "id": "4ee76e8c",
   "metadata": {},
   "outputs": [],
   "source": [
    "def double(n):\n",
    "    return 2*n"
   ]
  },
  {
   "cell_type": "code",
   "execution_count": 78,
   "id": "86e25d31",
   "metadata": {},
   "outputs": [],
   "source": [
    "#RECURSION\n",
    "def mul(a, b):\n",
    "    if b == 0:\n",
    "        return 0\n",
    "    if is_even(b):\n",
    "        return double(mul(a,half(b)))\n",
    "    else:\n",
    "        return a + mul(a, b - 1)"
   ]
  },
  {
   "cell_type": "code",
   "execution_count": 79,
   "id": "6c27fb5d",
   "metadata": {},
   "outputs": [
    {
     "name": "stdout",
     "output_type": "stream",
     "text": [
      "True\n",
      "True\n",
      "True\n",
      "True\n",
      "True\n",
      "True\n",
      "True\n",
      "True\n",
      "True\n",
      "True\n",
      "True\n"
     ]
    }
   ],
   "source": [
    "#TEST\n",
    "a=4\n",
    "while a<15:\n",
    "    print(mul(2,a)==2*a)\n",
    "    a+=1"
   ]
  },
  {
   "cell_type": "code",
   "execution_count": 68,
   "id": "fe12a519",
   "metadata": {},
   "outputs": [],
   "source": [
    "def mul_iter(a,b):\n",
    "    res=0\n",
    "    if is_even(a) and not is_even(b):\n",
    "        a,b=b,a\n",
    "    while b>0:\n",
    "        if is_even(b):\n",
    "            a=double(a)\n",
    "            b=half(b)\n",
    "        else:\n",
    "            res+=a\n",
    "            b-=1\n",
    "    return res"
   ]
  },
  {
   "cell_type": "code",
   "execution_count": 80,
   "id": "62ff7d7e",
   "metadata": {},
   "outputs": [
    {
     "name": "stdout",
     "output_type": "stream",
     "text": [
      "True\n",
      "True\n",
      "True\n",
      "True\n",
      "True\n",
      "True\n",
      "True\n",
      "True\n",
      "True\n",
      "True\n",
      "True\n"
     ]
    }
   ],
   "source": [
    "#TEST\n",
    "a=4\n",
    "while a<15:\n",
    "    print(mul(2,a)==2*a)\n",
    "    a+=1"
   ]
  },
  {
   "cell_type": "code",
   "execution_count": null,
   "id": "793b86da",
   "metadata": {},
   "outputs": [],
   "source": []
  }
 ],
 "metadata": {
  "kernelspec": {
   "display_name": "Python 3 (ipykernel)",
   "language": "python",
   "name": "python3"
  },
  "language_info": {
   "codemirror_mode": {
    "name": "ipython",
    "version": 3
   },
   "file_extension": ".py",
   "mimetype": "text/x-python",
   "name": "python",
   "nbconvert_exporter": "python",
   "pygments_lexer": "ipython3",
   "version": "3.9.7"
  }
 },
 "nbformat": 4,
 "nbformat_minor": 5
}
