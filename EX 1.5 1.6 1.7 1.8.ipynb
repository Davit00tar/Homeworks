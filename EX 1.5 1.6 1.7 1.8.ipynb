{
 "cells": [
  {
   "cell_type": "code",
   "execution_count": null,
   "id": "fd248b49-84c7-4909-bb62-7cb9d9887430",
   "metadata": {},
   "outputs": [],
   "source": [
    "# EX 1.5-----------------------------------"
   ]
  },
  {
   "cell_type": "code",
   "execution_count": 137,
   "id": "60be6c97-4598-4a0e-a94a-576cea11adce",
   "metadata": {},
   "outputs": [],
   "source": [
    "def sum_between(a,b): \n",
    "    sum=0\n",
    "    num=a+1\n",
    "    while num < b:\n",
    "        sum+=num\n",
    "        num+=1\n",
    "    return sum\n",
    "        "
   ]
  },
  {
   "cell_type": "code",
   "execution_count": 138,
   "id": "ed5cf5bf-505b-4982-bfee-f1aa8becd6d6",
   "metadata": {},
   "outputs": [
    {
     "data": {
      "text/plain": [
       "11"
      ]
     },
     "execution_count": 138,
     "metadata": {},
     "output_type": "execute_result"
    }
   ],
   "source": [
    "sum_between(4,7)"
   ]
  },
  {
   "cell_type": "code",
   "execution_count": 139,
   "id": "0bd24a71-0f62-45a3-8a6a-e433e1bf4ee8",
   "metadata": {},
   "outputs": [],
   "source": [
    "# EX 1.6-----------------------------------"
   ]
  },
  {
   "cell_type": "code",
   "execution_count": 140,
   "id": "c93d443d-cfac-450a-9c64-8b99c2faaeff",
   "metadata": {},
   "outputs": [],
   "source": [
    "def sum_between_vol2(a,b):\n",
    "    if a < b:\n",
    "        return sum_between(a,b) #from EX 1.5\n",
    "    else :\n",
    "        return sum_between_reverse(a,b)\n",
    "   \n",
    "    "
   ]
  },
  {
   "cell_type": "code",
   "execution_count": 141,
   "id": "6e26bae5-1fb8-41d5-a05f-21d7cb6e3ea7",
   "metadata": {},
   "outputs": [],
   "source": [
    "def sum_between_reverse(a,b):\n",
    "    sum=0\n",
    "    num=b+1\n",
    "    while num<a :\n",
    "        sum+=num\n",
    "        num+=1\n",
    "    return sum"
   ]
  },
  {
   "cell_type": "code",
   "execution_count": 142,
   "id": "d4c7bcb9-4af4-48d2-84a1-38e1f9739e69",
   "metadata": {},
   "outputs": [
    {
     "data": {
      "text/plain": [
       "81"
      ]
     },
     "execution_count": 142,
     "metadata": {},
     "output_type": "execute_result"
    }
   ],
   "source": [
    "sum_between_vol2(17,10)"
   ]
  },
  {
   "cell_type": "code",
   "execution_count": 143,
   "id": "4a404355-d212-4859-a557-de89af926468",
   "metadata": {},
   "outputs": [],
   "source": [
    "# EX 1.7-----------------------------------"
   ]
  },
  {
   "cell_type": "code",
   "execution_count": 144,
   "id": "f3f5477b-4c94-47d1-8b24-c7223e801105",
   "metadata": {},
   "outputs": [],
   "source": [
    "def my_pow(a,b):\n",
    "    result=1\n",
    "    count=0\n",
    "    while count< b:\n",
    "        result*=a\n",
    "        count+=1\n",
    "    return result"
   ]
  },
  {
   "cell_type": "code",
   "execution_count": 145,
   "id": "3ab2de58-f5aa-4330-a4d1-0408d371776d",
   "metadata": {},
   "outputs": [
    {
     "data": {
      "text/plain": [
       "64"
      ]
     },
     "execution_count": 145,
     "metadata": {},
     "output_type": "execute_result"
    }
   ],
   "source": [
    "my_pow(4,3)"
   ]
  },
  {
   "cell_type": "code",
   "execution_count": 146,
   "id": "938187a0-2307-4713-84d0-d85df6ae06a6",
   "metadata": {},
   "outputs": [],
   "source": [
    "def universal_pow(a,b):\n",
    "    if a==0 and b<0:\n",
    "        print(\" ERROR! Can't divide by 0\")\n",
    "    else:\n",
    "        if b>0:\n",
    "            return my_pow(a,b)\n",
    "        elif b<0:\n",
    "            return 1/my_pow(a,-b)   \n",
    "        else:\n",
    "            return 1\n",
    "            \n",
    "            "
   ]
  },
  {
   "cell_type": "code",
   "execution_count": 147,
   "id": "3f2f0cdb-b58e-4081-b176-c4c68d076ca4",
   "metadata": {},
   "outputs": [
    {
     "data": {
      "text/plain": [
       "0.125"
      ]
     },
     "execution_count": 147,
     "metadata": {},
     "output_type": "execute_result"
    }
   ],
   "source": [
    "universal_pow(2,-3)\n"
   ]
  },
  {
   "cell_type": "code",
   "execution_count": 148,
   "id": "59427359-de4a-40bf-a752-0dd420803b91",
   "metadata": {},
   "outputs": [],
   "source": [
    "# EX 1.8-----------------------------------"
   ]
  },
  {
   "cell_type": "code",
   "execution_count": 149,
   "id": "fa533ad5-c00a-475c-8d4e-76a7e76974b7",
   "metadata": {},
   "outputs": [],
   "source": [
    "def cube_root(a):\n",
    "    root=1\n",
    "    while not guess_enough(root,a):\n",
    "        root=improve(root,a)\n",
    "        \n",
    "    return root"
   ]
  },
  {
   "cell_type": "code",
   "execution_count": 150,
   "id": "34a3bfd0-c8d4-4831-9e48-dba062366243",
   "metadata": {},
   "outputs": [],
   "source": [
    "def guess_enough(root,a):\n",
    "    if my_abs(pow(root,3)-a)< 0.001:\n",
    "        return True\n",
    "    else:\n",
    "        return False"
   ]
  },
  {
   "cell_type": "code",
   "execution_count": 151,
   "id": "74c3478a-fdd5-449b-aea3-833e56f44b98",
   "metadata": {},
   "outputs": [],
   "source": [
    "def my_abs(num):\n",
    "    if num>=0:\n",
    "        return num\n",
    "    else:\n",
    "        return -num"
   ]
  },
  {
   "cell_type": "code",
   "execution_count": 152,
   "id": "95246cfc-c16f-4d9d-8e63-f75914f0a972",
   "metadata": {},
   "outputs": [],
   "source": [
    "def improve(root,a):\n",
    "    return ((a/my_pow(root,2))+2*root)/3"
   ]
  },
  {
   "cell_type": "code",
   "execution_count": 153,
   "id": "3ffb9cda-3922-4f0d-853c-d38d9343d5c3",
   "metadata": {},
   "outputs": [
    {
     "data": {
      "text/plain": [
       "10.000000145265767"
      ]
     },
     "execution_count": 153,
     "metadata": {},
     "output_type": "execute_result"
    }
   ],
   "source": [
    "cube_root(1000)"
   ]
  },
  {
   "cell_type": "code",
   "execution_count": null,
   "id": "6e01781d-90d6-4803-a8ad-8e6e30afa2ea",
   "metadata": {},
   "outputs": [],
   "source": []
  }
 ],
 "metadata": {
  "kernelspec": {
   "display_name": "Python 3 (ipykernel)",
   "language": "python",
   "name": "python3"
  },
  "language_info": {
   "codemirror_mode": {
    "name": "ipython",
    "version": 3
   },
   "file_extension": ".py",
   "mimetype": "text/x-python",
   "name": "python",
   "nbconvert_exporter": "python",
   "pygments_lexer": "ipython3",
   "version": "3.9.7"
  }
 },
 "nbformat": 4,
 "nbformat_minor": 5
}
