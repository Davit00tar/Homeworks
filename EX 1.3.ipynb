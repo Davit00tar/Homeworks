{
 "cells": [
  {
   "cell_type": "code",
   "execution_count": 23,
   "id": "1eccd700-5d2a-4060-bcb2-d29aa9e863f9",
   "metadata": {},
   "outputs": [],
   "source": [
    "def biggest_num (a,b,c):\n",
    "    if (a>b) and (a>c):\n",
    "        return a\n",
    "    if (b>a) and (b>c):\n",
    "        return b\n",
    "    else:\n",
    "        return c\n",
    "\n"
   ]
  },
  {
   "cell_type": "code",
   "execution_count": 22,
   "id": "f89c694b-3449-4250-9b00-8cc073e05c31",
   "metadata": {},
   "outputs": [],
   "source": [
    "def second_big_num (a,b,c):\n",
    "    if (a>b and a<c) or (a<b and a>c):\n",
    "        return a\n",
    "    if (b>a and b<c) or (b<a and b>c):\n",
    "        return b\n",
    "    else:\n",
    "        return c\n"
   ]
  },
  {
   "cell_type": "code",
   "execution_count": 11,
   "id": "fe8aaef4-eb3a-4f91-a545-411cb1b5c071",
   "metadata": {},
   "outputs": [],
   "source": [
    "def adder(num1, num2):\n",
    "    return num1+num2"
   ]
  },
  {
   "cell_type": "code",
   "execution_count": 13,
   "id": "de5a73ce-560c-46c0-9179-bf0ebdf81c22",
   "metadata": {},
   "outputs": [],
   "source": [
    "def sqr(x):\n",
    "    return x**2"
   ]
  },
  {
   "cell_type": "code",
   "execution_count": 18,
   "id": "65c89628-d463-4b04-b4a1-6a54136d8235",
   "metadata": {},
   "outputs": [],
   "source": [
    "def big_2numbers_sqr_adder(a,b,c):\n",
    "    return adder(sqr(biggest_num(a,b,c)),sqr(second_big_num(a,b,c)))\n"
   ]
  },
  {
   "cell_type": "code",
   "execution_count": 21,
   "id": "3f05edc3-6274-439d-a82f-2ca760c85367",
   "metadata": {},
   "outputs": [
    {
     "data": {
      "text/plain": [
       "136"
      ]
     },
     "execution_count": 21,
     "metadata": {},
     "output_type": "execute_result"
    }
   ],
   "source": [
    "big_2numbers_sqr_adder(10,2,6)"
   ]
  },
  {
   "cell_type": "code",
   "execution_count": null,
   "id": "c777f933-ce63-4517-bd48-f4ab2d09953a",
   "metadata": {},
   "outputs": [],
   "source": []
  }
 ],
 "metadata": {
  "kernelspec": {
   "display_name": "Python 3 (ipykernel)",
   "language": "python",
   "name": "python3"
  },
  "language_info": {
   "codemirror_mode": {
    "name": "ipython",
    "version": 3
   },
   "file_extension": ".py",
   "mimetype": "text/x-python",
   "name": "python",
   "nbconvert_exporter": "python",
   "pygments_lexer": "ipython3",
   "version": "3.9.7"
  }
 },
 "nbformat": 4,
 "nbformat_minor": 5
}
