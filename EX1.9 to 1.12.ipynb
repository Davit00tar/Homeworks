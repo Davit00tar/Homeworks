{
 "cells": [
  {
   "cell_type": "code",
   "execution_count": null,
   "id": "b085336c",
   "metadata": {},
   "outputs": [],
   "source": [
    "# EX 1.9-------------"
   ]
  },
  {
   "cell_type": "code",
   "execution_count": 17,
   "id": "0812b1aa",
   "metadata": {},
   "outputs": [],
   "source": [
    "#Տրված ֆունկցիա\n",
    "def inc(a):\n",
    "    return a+1"
   ]
  },
  {
   "cell_type": "code",
   "execution_count": 18,
   "id": "0842491d",
   "metadata": {},
   "outputs": [],
   "source": [
    "#Տրված ֆունկցիա\n",
    "def dec(b):\n",
    "    return b-1"
   ]
  },
  {
   "cell_type": "code",
   "execution_count": 19,
   "id": "7097abad",
   "metadata": {},
   "outputs": [],
   "source": [
    " def add1(a, b):\n",
    "# add1 ֆունկցիան Ռեկուրսիվ ֆունկցիա է, քանի որ կա հետաձգված գործողություն\n",
    "\n",
    "\tif a == 0:\n",
    "\t\treturn b # բազային դեպք\n",
    "\telse:\n",
    "\t\treturn inc(add1(dec(a), b)) \n",
    "# ֆունկցիան վերադարձնում է այս արտահայտությունը, երբ a-ն հավասար չէ 0-ի։ Արտահայտության \n",
    "# մեջ ֆունկցիան կանչում է իրեն, որտեղ ֆունկցիաի արգումենտի թվերը լինում են a=dec(a), b=b\n",
    "# ֆունկցիայում հետաձգված գործողությունը inc()-ն է\n",
    "# Օրինակ add1(4,5)\n",
    "# add1(4,5)(հետաձգված inc-ով)->add1(3,5)(հետաձգված inc-ով)->add1(2,5)(հետաձգված inc-ով)-> \n",
    "# add1(1,5)(հետաձգված inc-ով)-> add1(0,5)(բազային դեպք)-> 6 -> 7-> 8-> 9"
   ]
  },
  {
   "cell_type": "code",
   "execution_count": 23,
   "id": "6bf0aa0f",
   "metadata": {},
   "outputs": [
    {
     "data": {
      "text/plain": [
       "9"
      ]
     },
     "execution_count": 23,
     "metadata": {},
     "output_type": "execute_result"
    }
   ],
   "source": [
    "add1(4,5)"
   ]
  },
  {
   "cell_type": "code",
   "execution_count": null,
   "id": "61ab7a34",
   "metadata": {},
   "outputs": [],
   "source": [
    "def add2(a, b):\n",
    "# add2 ֆունկցիան Պոչի Ռեկուրսիայով ֆունկցիա է, քանի որ չկա հետաձգված գործողություն\n",
    "\tif a == 0:\n",
    "\t\treturn b # բազային դեպք\n",
    "\telse:\n",
    "\t\treturn add2(dec(a), inc(b))\n",
    "# Քանի որ վերջին բանը որ ֆունկցիան անում է դա իրեն նորից կանչելն է, այսինքն կանչի\n",
    "# արդյունքում վերադարձված արժեքի հետ անելու բան հետո չկա,տվյալները փոխանցվելուց հերո \n",
    "# չեն պահպանվում։ Գործողությունը շարունակում է նոր կանչված ֆունկցիան արդեն ձևափոխված տվյալներով։\n",
    "# Օրինակ add2(4,5)\n",
    "# add2(4,5)-> add2(3,6)->add2(2,7)->add2(1,8)->add2(0,9)(բազային դեպք)->9"
   ]
  },
  {
   "cell_type": "code",
   "execution_count": null,
   "id": "e6db1706",
   "metadata": {},
   "outputs": [],
   "source": [
    "# EX 1.10-----------------------------------------------------------"
   ]
  },
  {
   "cell_type": "code",
   "execution_count": 4,
   "id": "2edb21fb",
   "metadata": {},
   "outputs": [],
   "source": [
    "def ackermann(x, y):\n",
    "\tif y == 0:\n",
    "\t\treturn 0\n",
    "\telif x == 0:\n",
    "\t\treturn 2 * y\n",
    "\telif y == 1:\n",
    "\t\treturn 2\n",
    "\telse:\n",
    "\t\treturn ackermann(x - 1, ackermann(x, y - 1))\n"
   ]
  },
  {
   "cell_type": "code",
   "execution_count": 3,
   "id": "f414d2f3",
   "metadata": {
    "scrolled": true
   },
   "outputs": [
    {
     "data": {
      "text/plain": [
       "32"
      ]
     },
     "execution_count": 3,
     "metadata": {},
     "output_type": "execute_result"
    }
   ],
   "source": [
    "ackermann(1,5)\n",
    "# ֆունկցիան ռեկուրսիվ է քանի որ, կանչի արդյունքում ստեղծված լոկալ միջավայրերը,   \n",
    "# իրեն նորից կանչելուց հետո պետք է պահպանվեն, հետաձգված գործողությունը (ինչը տվյալ \n",
    "# պարագայում կրկին անգամ իրեն կանչելն է) կատարելու համար։ Ֆունկցիան ունի 3 բազային դեպք:\n",
    "# Այսպիսին է նրա քայլերը\n",
    "# a(1,5)->a(0,a(1,4))->a(0,a(0,a(1,3)))->a(0,a(0,a(0,a(1,2))))->a(0,a(0,a(0,a(0,a(1,1)))))->\n",
    "# a(0,a(0,a(0,a(0,2))))-> a(0,a(0,a(0,4)))-> a(0,a(0,8))-> a(0,16)-> 32"
   ]
  },
  {
   "cell_type": "code",
   "execution_count": 12,
   "id": "27d6e709",
   "metadata": {},
   "outputs": [
    {
     "data": {
      "text/plain": [
       "True"
      ]
     },
     "execution_count": 12,
     "metadata": {},
     "output_type": "execute_result"
    }
   ],
   "source": [
    "ackermann(2, 4)==ackermann(3, 3)# =65536"
   ]
  },
  {
   "cell_type": "code",
   "execution_count": 13,
   "id": "fc9b5169",
   "metadata": {},
   "outputs": [],
   "source": [
    " def a1(n):\n",
    "\treturn ackermann(0, n)\n",
    "# Պատասխանը կլինի 2*n"
   ]
  },
  {
   "cell_type": "code",
   "execution_count": 16,
   "id": "e59c2798",
   "metadata": {},
   "outputs": [
    {
     "data": {
      "text/plain": [
       "True"
      ]
     },
     "execution_count": 16,
     "metadata": {},
     "output_type": "execute_result"
    }
   ],
   "source": [
    "a1(4)==2*4\n",
    "a1(5)==2*5"
   ]
  },
  {
   "cell_type": "code",
   "execution_count": 8,
   "id": "8d7af656",
   "metadata": {},
   "outputs": [],
   "source": [
    " def a2(n):\n",
    "\treturn ackermann(1, n)\n",
    "# Պատասխանը կլինի 2**n"
   ]
  },
  {
   "cell_type": "code",
   "execution_count": 9,
   "id": "380a112b",
   "metadata": {},
   "outputs": [
    {
     "data": {
      "text/plain": [
       "True"
      ]
     },
     "execution_count": 9,
     "metadata": {},
     "output_type": "execute_result"
    }
   ],
   "source": [
    "a2(4)==2**4\n",
    "a2(5)==2**5"
   ]
  },
  {
   "cell_type": "code",
   "execution_count": 2,
   "id": "5a335448",
   "metadata": {},
   "outputs": [],
   "source": [
    "def a3(n):\n",
    "\treturn ackermann(2, n)\n",
    "#Պատասխանը կլինի 2**2**2**...**2(n անգամ)"
   ]
  },
  {
   "cell_type": "code",
   "execution_count": 10,
   "id": "00653cfa",
   "metadata": {},
   "outputs": [
    {
     "data": {
      "text/plain": [
       "True"
      ]
     },
     "execution_count": 10,
     "metadata": {},
     "output_type": "execute_result"
    }
   ],
   "source": [
    "a3(3)==2**2**2\n",
    "a3(4)==2**2**2**2"
   ]
  },
  {
   "cell_type": "code",
   "execution_count": null,
   "id": "eb1d380a",
   "metadata": {},
   "outputs": [],
   "source": [
    "# GCD"
   ]
  },
  {
   "cell_type": "code",
   "execution_count": 11,
   "id": "52c01cd1",
   "metadata": {},
   "outputs": [],
   "source": [
    "def gcd(x,y):\n",
    "    return x if y==0 else gcd(y,x%y)"
   ]
  },
  {
   "cell_type": "code",
   "execution_count": 16,
   "id": "3d016d43",
   "metadata": {},
   "outputs": [
    {
     "data": {
      "text/plain": [
       "250"
      ]
     },
     "execution_count": 16,
     "metadata": {},
     "output_type": "execute_result"
    }
   ],
   "source": [
    "gcd(100000,7250)"
   ]
  },
  {
   "cell_type": "code",
   "execution_count": null,
   "id": "03280234",
   "metadata": {},
   "outputs": [],
   "source": [
    "# fib"
   ]
  },
  {
   "cell_type": "code",
   "execution_count": 1,
   "id": "127d9384",
   "metadata": {},
   "outputs": [],
   "source": [
    "def fib(n):\n",
    "    return n-1 if n in [1,2] else fib(n-1)+ fib(n-2)"
   ]
  },
  {
   "cell_type": "code",
   "execution_count": 2,
   "id": "8e2c4120",
   "metadata": {},
   "outputs": [
    {
     "data": {
      "text/plain": [
       "8"
      ]
     },
     "execution_count": 2,
     "metadata": {},
     "output_type": "execute_result"
    }
   ],
   "source": [
    "fib(7)"
   ]
  },
  {
   "cell_type": "code",
   "execution_count": 17,
   "id": "a972e201",
   "metadata": {},
   "outputs": [],
   "source": [
    "def fib_loop(n):# ֆիբոնաչին ցիկլով\n",
    "    a1=0\n",
    "    a2=1\n",
    "    while n>0:\n",
    "        a1,a2=a2,a1+a2\n",
    "        n-=1\n",
    "        \n",
    "    return a2"
   ]
  },
  {
   "cell_type": "code",
   "execution_count": 20,
   "id": "df816293",
   "metadata": {},
   "outputs": [
    {
     "data": {
      "text/plain": [
       "8"
      ]
     },
     "execution_count": 20,
     "metadata": {},
     "output_type": "execute_result"
    }
   ],
   "source": [
    "fib_loop(5)"
   ]
  },
  {
   "cell_type": "code",
   "execution_count": null,
   "id": "b6d0b2c8",
   "metadata": {},
   "outputs": [],
   "source": [
    "# EX1.11-----------------------------"
   ]
  },
  {
   "cell_type": "code",
   "execution_count": 23,
   "id": "bce77d53",
   "metadata": {},
   "outputs": [],
   "source": [
    "def f(n):\n",
    "    return n if n<3 else f(n-1)+f(n-2)+f(n-3)"
   ]
  },
  {
   "cell_type": "code",
   "execution_count": 24,
   "id": "0eb9c748",
   "metadata": {},
   "outputs": [
    {
     "data": {
      "text/plain": [
       "11"
      ]
     },
     "execution_count": 24,
     "metadata": {},
     "output_type": "execute_result"
    }
   ],
   "source": [
    "f(5)"
   ]
  },
  {
   "cell_type": "code",
   "execution_count": 25,
   "id": "8596f068",
   "metadata": {},
   "outputs": [],
   "source": [
    "def f_tail(n,a,b,c):\n",
    "    return c if n==3 else f_tail(n-1,b,c,a+b+c)\n",
    "# a,b,c թվային հաջորդականության առաջին 3 թվերն են"
   ]
  },
  {
   "cell_type": "code",
   "execution_count": 26,
   "id": "9788aea2",
   "metadata": {},
   "outputs": [
    {
     "data": {
      "text/plain": [
       "11"
      ]
     },
     "execution_count": 26,
     "metadata": {},
     "output_type": "execute_result"
    }
   ],
   "source": [
    "f_tail(5,1,2,3)\n",
    "#f(5,1,2,3)->f(4,2,3,6)->f(3,3,6,11)(բազային դեպք)->11"
   ]
  },
  {
   "cell_type": "code",
   "execution_count": 27,
   "id": "2b128041",
   "metadata": {},
   "outputs": [],
   "source": [
    "def f_loop(n):\n",
    "    a=1\n",
    "    b=2\n",
    "    c=3\n",
    "    while n>3:\n",
    "        a,b,c=b,c,a+b+c\n",
    "        n-=1\n",
    "    return c"
   ]
  },
  {
   "cell_type": "code",
   "execution_count": 28,
   "id": "757995ca",
   "metadata": {},
   "outputs": [
    {
     "data": {
      "text/plain": [
       "11"
      ]
     },
     "execution_count": 28,
     "metadata": {},
     "output_type": "execute_result"
    }
   ],
   "source": [
    "f_loop(5)"
   ]
  },
  {
   "cell_type": "code",
   "execution_count": null,
   "id": "eb0bc23a",
   "metadata": {},
   "outputs": [],
   "source": [
    "#EX 1.12(PASCAL TRIANGLE)----------------"
   ]
  },
  {
   "cell_type": "code",
   "execution_count": 29,
   "id": "e0ff407e",
   "metadata": {},
   "outputs": [],
   "source": [
    "def pascal(row,num):\n",
    "    if row==2:\n",
    "        return 1\n",
    "    elif num==1 or num==row:\n",
    "        return 1\n",
    "    else:\n",
    "        return pascal(row-1,num)+pascal(row-1,num-1)\n",
    "        "
   ]
  },
  {
   "cell_type": "code",
   "execution_count": 36,
   "id": "b2c3c7ee",
   "metadata": {},
   "outputs": [
    {
     "data": {
      "text/plain": [
       "3"
      ]
     },
     "execution_count": 36,
     "metadata": {},
     "output_type": "execute_result"
    }
   ],
   "source": [
    "pascal(4,2)\n",
    "# ֆունկցիան ունի ծառանման ռեկուրսիվ կառոըցվածք"
   ]
  },
  {
   "cell_type": "code",
   "execution_count": null,
   "id": "042ca054",
   "metadata": {},
   "outputs": [],
   "source": [
    "# pascal ֆունկցիան գտնում է եռանկյան անդամի արժեքը կախված նրա շարքի(row) և կարգի(num)\n",
    "# համարներից(շարքը պետք է փոքր լինի կարգից): Փոխելով եռանկյան տեսքը ավելի հեշտ է նկատել \n",
    "# ալգորիթմը\n",
    "#1\n",
    "#11\n",
    "#121\n",
    "#1331\n",
    "#14641\n",
    "# ...\n",
    "#Հեշտ է նկատել որ թիվը հավասար է իր վերևի և վերևի ձախ հարևան թվերի գումարին\n"
   ]
  }
 ],
 "metadata": {
  "kernelspec": {
   "display_name": "Python 3 (ipykernel)",
   "language": "python",
   "name": "python3"
  },
  "language_info": {
   "codemirror_mode": {
    "name": "ipython",
    "version": 3
   },
   "file_extension": ".py",
   "mimetype": "text/x-python",
   "name": "python",
   "nbconvert_exporter": "python",
   "pygments_lexer": "ipython3",
   "version": "3.9.7"
  }
 },
 "nbformat": 4,
 "nbformat_minor": 5
}
